{
  "nbformat": 4,
  "nbformat_minor": 0,
  "metadata": {
    "colab": {
      "name": "PyTorch Tutorial Yosen.ipynb",
      "provenance": [],
      "authorship_tag": "ABX9TyMnJmRhZboJv7yOe0IgqVI7",
      "include_colab_link": true
    },
    "kernelspec": {
      "name": "python3",
      "display_name": "Python 3"
    },
    "language_info": {
      "name": "python"
    }
  },
  "cells": [
    {
      "cell_type": "markdown",
      "metadata": {
        "id": "view-in-github",
        "colab_type": "text"
      },
      "source": [
        "<a href=\"https://colab.research.google.com/github/alckasoc/sp22-team-1/blob/main/PyTorch_Tutorial_Yosen.ipynb\" target=\"_parent\"><img src=\"https://colab.research.google.com/assets/colab-badge.svg\" alt=\"Open In Colab\"/></a>"
      ]
    },
    {
      "cell_type": "code",
      "execution_count": 1,
      "metadata": {
        "colab": {
          "base_uri": "https://localhost:8080/"
        },
        "id": "UCe4j5a63qTZ",
        "outputId": "904156fd-3c9d-4f90-b553-9330a9cf529c"
      },
      "outputs": [
        {
          "output_type": "stream",
          "name": "stdout",
          "text": [
            "tensor([[0.6680, 0.6269, 0.8665],\n",
            "        [0.6992, 0.4814, 0.9004],\n",
            "        [0.6961, 0.4924, 0.8852],\n",
            "        [0.3403, 0.0083, 0.3247],\n",
            "        [0.1375, 0.1433, 0.6485]])\n"
          ]
        },
        {
          "output_type": "execute_result",
          "data": {
            "text/plain": [
              "False"
            ]
          },
          "metadata": {},
          "execution_count": 1
        }
      ],
      "source": [
        "import torch\n",
        "x = torch.rand(5, 3)\n",
        "print(x)\n",
        "torch.cuda.is_available()"
      ]
    }
  ]
}

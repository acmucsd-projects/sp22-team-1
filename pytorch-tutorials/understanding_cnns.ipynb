{
  "nbformat": 4,
  "nbformat_minor": 0,
  "metadata": {
    "colab": {
      "name": "understanding_cnns.ipynb",
      "provenance": []
    },
    "kernelspec": {
      "name": "python3",
      "display_name": "Python 3"
    },
    "language_info": {
      "name": "python"
    }
  },
  "cells": [
    {
      "cell_type": "code",
      "execution_count": 1,
      "metadata": {
        "id": "yd1w5cIxOOH4"
      },
      "outputs": [],
      "source": [
        "import torch\n",
        "from torch import nn"
      ]
    },
    {
      "cell_type": "code",
      "source": [
        "m = nn.Conv2d(in_channels=3,  # Why does this have to be 3?\n",
        "              out_channels=100,  # Why is this 100?  \n",
        "\n",
        "              # TLDR, the output channels can be any number.\n",
        "\n",
        "              kernel_size=3,  # What happens if we change the kernel_size to, say, 5 or 10?\n",
        "              stride=2)  # How does stride affect the output?\n",
        "\n",
        "# Explain the shape of the input.\n",
        "input = torch.randn(20, 3, 1024, 1024)\n",
        "\n",
        "# What is the shape of this output? Explain the shape of the output.\n",
        "output = m(input)"
      ],
      "metadata": {
        "id": "tFa0MsVDOP30"
      },
      "execution_count": 2,
      "outputs": []
    },
    {
      "cell_type": "code",
      "source": [
        "# Btw, there are some useful equations for computing the shape of the output.\n",
        "\n",
        "# You run this equation for both the height and width of the image. But since the H and W are the same, you only need to compute it once!\n",
        "\n",
        "# N = 1024 (our image dimension; normally the images we pass in are square)\n",
        "# P = 0 (we aren't using padding)\n",
        "# F = 3 (our kernel_size)\n",
        "# S = 2 (our stride)\n",
        "\n",
        "output.shape"
      ],
      "metadata": {
        "colab": {
          "base_uri": "https://localhost:8080/"
        },
        "id": "6bIR7um5OqCU",
        "outputId": "90096e0f-9e04-4c71-bc63-f823f9c30373"
      },
      "execution_count": 3,
      "outputs": [
        {
          "output_type": "execute_result",
          "data": {
            "text/plain": [
              "torch.Size([20, 100, 511, 511])"
            ]
          },
          "metadata": {},
          "execution_count": 3
        }
      ]
    },
    {
      "cell_type": "markdown",
      "source": [
        "$$\n",
        "Floor(\\frac{N + 2P - F}{S}) + 1\n",
        "$$"
      ],
      "metadata": {
        "id": "iYb74op-QtTm"
      }
    },
    {
      "cell_type": "code",
      "source": [
        "my_layer = nn.Conv2d(in_channels=3,\n",
        "              out_channels=345, \n",
        "              kernel_size=15,\n",
        "              stride=7)\n",
        "\n",
        "# This is 64 RGB images of shape 128 x 478.\n",
        "x = torch.rand(64, 3, 128, 478)\n",
        "\n",
        "z = my_layer(x)"
      ],
      "metadata": {
        "id": "5bnA9dC8Qr9D"
      },
      "execution_count": 4,
      "outputs": []
    },
    {
      "cell_type": "code",
      "source": [
        "z.shape  # What is the shape of z? What does this shape mean?"
      ],
      "metadata": {
        "colab": {
          "base_uri": "https://localhost:8080/"
        },
        "id": "JdTL3P06SMo3",
        "outputId": "d0d4c6c6-8dd2-48ab-cea0-e7ccc6d70722"
      },
      "execution_count": 5,
      "outputs": [
        {
          "output_type": "execute_result",
          "data": {
            "text/plain": [
              "torch.Size([64, 345, 17, 67])"
            ]
          },
          "metadata": {},
          "execution_count": 5
        }
      ]
    },
    {
      "cell_type": "code",
      "source": [
        ""
      ],
      "metadata": {
        "id": "At99UAzhTX7f"
      },
      "execution_count": null,
      "outputs": []
    }
  ]
}
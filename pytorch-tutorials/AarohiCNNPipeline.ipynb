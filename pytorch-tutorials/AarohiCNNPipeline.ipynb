{
  "nbformat": 4,
  "nbformat_minor": 0,
  "metadata": {
    "colab": {
      "name": "AarohiCNNPipeline.ipynb",
      "provenance": [],
      "collapsed_sections": []
    },
    "kernelspec": {
      "name": "python3",
      "display_name": "Python 3"
    },
    "language_info": {
      "name": "python"
    }
  },
  "cells": [
    {
      "cell_type": "markdown",
      "source": [
        "**Imports, defining variables, switching to GPU if available**"
      ],
      "metadata": {
        "id": "3pnrODptSLXJ"
      }
    },
    {
      "cell_type": "code",
      "source": [
        "import torch\n",
        "import torch.nn as nn\n",
        "import torchvision\n",
        "import torchvision.transforms as transforms\n",
        "\n",
        "\n",
        "batch_size = 64\n",
        "num_classes = 10\n",
        "learning_rate = 0.001\n",
        "num_epochs = 20 \n",
        "\n",
        "\n",
        "device = torch.device('cuda' if torch.cuda.is_available() else 'cpu')"
      ],
      "metadata": {
        "id": "O2r6HDPCEtPB"
      },
      "execution_count": 17,
      "outputs": []
    },
    {
      "cell_type": "markdown",
      "source": [
        "**Uploading and preprocessing data**"
      ],
      "metadata": {
        "id": "QtIorFLNSbcd"
      }
    },
    {
      "cell_type": "code",
      "execution_count": 18,
      "metadata": {
        "colab": {
          "base_uri": "https://localhost:8080/"
        },
        "id": "nJk-aLslEfBl",
        "outputId": "d05b65e7-35a2-4a0c-f83a-7aecdf778f34"
      },
      "outputs": [
        {
          "output_type": "stream",
          "name": "stdout",
          "text": [
            "Files already downloaded and verified\n",
            "Files already downloaded and verified\n"
          ]
        }
      ],
      "source": [
        "# converts images into normalized tensors\n",
        "all_transforms = transforms.Compose([transforms.Resize((32,32)),\n",
        "                                     transforms.ToTensor(),\n",
        "                                     transforms.Normalize(mean=[0.4914, 0.4822, 0.4465], #mean and std of each band in images can be found online \n",
        "                                                          std=[0.2023, 0.1994, 0.2010])\n",
        "                                     ])\n",
        "# Create Training dataset (using CIFAR-10, 60,000 RGB images, 10 different classes)\n",
        "train_dataset = torchvision.datasets.CIFAR10(root = './data',\n",
        "                                             train = True,\n",
        "                                             transform = all_transforms,\n",
        "                                             download = True)\n",
        "\n",
        "# Create Testing dataset\n",
        "test_dataset = torchvision.datasets.CIFAR10(root = './data',\n",
        "                                            train = False,\n",
        "                                            transform = all_transforms,\n",
        "                                            download=True)\n",
        "\n",
        "# Instantiate loader objects to facilitate processing\n",
        "train_loader = torch.utils.data.DataLoader(dataset = train_dataset,\n",
        "                                           batch_size = batch_size,\n",
        "                                           shuffle = True)\n",
        "\n",
        "\n",
        "test_loader = torch.utils.data.DataLoader(dataset = test_dataset,\n",
        "                                           batch_size = batch_size,\n",
        "                                           shuffle = True)"
      ]
    },
    {
      "cell_type": "markdown",
      "source": [
        "**Defining the CNN**"
      ],
      "metadata": {
        "id": "Qgqdvy3BSklt"
      }
    },
    {
      "cell_type": "code",
      "source": [
        "# Creating a CNN class\n",
        "class ConvNeuralNet(nn.Module):\n",
        "\n",
        "\t#  Determine what layers and their order in CNN object \n",
        "    def __init__(self, num_classes):\n",
        "        super(ConvNeuralNet, self).__init__()\n",
        "        self.conv_layer1 = nn.Conv2d(in_channels=3, out_channels=32, kernel_size=3) #  Convolution layer #1 . Applies filter \n",
        "        self.conv_layer2 = nn.Conv2d(in_channels=32, out_channels=32, kernel_size=3) #  Convolution layer #2 \n",
        "        self.max_pool1 = nn.MaxPool2d(kernel_size = 2, stride = 2) #  Pooling layer #1 (Max pooling) \n",
        "        \n",
        "        self.conv_layer3 = nn.Conv2d(in_channels=32, out_channels=64, kernel_size=3) #Convolution layer 3\n",
        "        self.conv_layer4 = nn.Conv2d(in_channels=64, out_channels=64, kernel_size=3) #Convolution layer 4\n",
        "        self.max_pool2 = nn.MaxPool2d(kernel_size = 2, stride = 2) #Pooling layer 2\n",
        "        \n",
        "        self.fc1 = nn.Linear(1600, 128) \n",
        "        self.relu1 = nn.ReLU()\n",
        "        self.fc2 = nn.Linear(128, num_classes)\n",
        "    \n",
        "    # Progresses data across layers    \n",
        "    def forward(self, x):\n",
        "        out = self.conv_layer1(x)\n",
        "        out = self.conv_layer2(out)\n",
        "        out = self.max_pool1(out)\n",
        "        \n",
        "        out = self.conv_layer3(out)\n",
        "        out = self.conv_layer4(out)\n",
        "        out = self.max_pool2(out)\n",
        "                \n",
        "        out = out.reshape(out.size(0), -1)\n",
        "        \n",
        "        out = self.fc1(out)\n",
        "        out = self.relu1(out)\n",
        "        out = self.fc2(out)\n",
        "        return out"
      ],
      "metadata": {
        "id": "DS7j3M6SEqpK"
      },
      "execution_count": 19,
      "outputs": []
    },
    {
      "cell_type": "markdown",
      "source": [
        "**Model instantiation**"
      ],
      "metadata": {
        "id": "0FnnQ1epTJ6C"
      }
    },
    {
      "cell_type": "code",
      "source": [
        "model = ConvNeuralNet(num_classes)\n",
        "\n",
        "# Set Loss function with criterion\n",
        "criterion = nn.CrossEntropyLoss()\n",
        "\n",
        "# Set optimizer with optimizer\n",
        "optimizer = torch.optim.SGD(model.parameters(), lr=learning_rate, weight_decay = 0.005, momentum = 0.9)  \n",
        "\n",
        "total_step = len(train_loader)"
      ],
      "metadata": {
        "id": "OG9CCsSEFWyS"
      },
      "execution_count": 20,
      "outputs": []
    },
    {
      "cell_type": "markdown",
      "source": [
        "**Training the model**"
      ],
      "metadata": {
        "id": "aLcnfzqfUAaQ"
      }
    },
    {
      "cell_type": "code",
      "source": [
        "# We use the pre-defined number of epochs to determine how many iterations to train the network on\n",
        "for epoch in range(num_epochs):\n",
        "\t#Load in the data in batches using the train_loader object\n",
        "    for i, (images, labels) in enumerate(train_loader):  \n",
        "        # Move tensors to the configured device\n",
        "        images = images.to(device)\n",
        "        labels = labels.to(device)\n",
        "        \n",
        "        # Forward pass\n",
        "        outputs = model(images)\n",
        "        loss = criterion(outputs, labels)\n",
        "        \n",
        "        # Backward and optimize\n",
        "        optimizer.zero_grad()\n",
        "        loss.backward()\n",
        "        optimizer.step()\n",
        "\n",
        "    print('Epoch [{}/{}], Loss: {:.4f}'.format(epoch+1, num_epochs, loss.item()))\n",
        "\n",
        "            \n",
        "            \n"
      ],
      "metadata": {
        "colab": {
          "base_uri": "https://localhost:8080/"
        },
        "id": "Par_1Kd5FclG",
        "outputId": "747d1f3d-431d-46a6-d1e8-46372f67fafd"
      },
      "execution_count": 21,
      "outputs": [
        {
          "output_type": "stream",
          "name": "stdout",
          "text": [
            "Epoch [1/20], Loss: 2.1950\n",
            "Epoch [2/20], Loss: 1.2035\n",
            "Epoch [3/20], Loss: 1.1720\n",
            "Epoch [4/20], Loss: 0.9710\n",
            "Epoch [5/20], Loss: 1.3299\n",
            "Epoch [6/20], Loss: 1.1955\n",
            "Epoch [7/20], Loss: 1.0788\n",
            "Epoch [8/20], Loss: 1.3297\n",
            "Epoch [9/20], Loss: 1.1859\n",
            "Epoch [10/20], Loss: 0.4788\n",
            "Epoch [11/20], Loss: 1.0794\n",
            "Epoch [12/20], Loss: 0.6331\n",
            "Epoch [13/20], Loss: 0.7212\n",
            "Epoch [14/20], Loss: 0.4706\n",
            "Epoch [15/20], Loss: 0.3120\n",
            "Epoch [16/20], Loss: 0.3844\n",
            "Epoch [17/20], Loss: 0.5744\n",
            "Epoch [18/20], Loss: 0.5269\n",
            "Epoch [19/20], Loss: 0.6438\n",
            "Epoch [20/20], Loss: 0.5180\n"
          ]
        }
      ]
    },
    {
      "cell_type": "markdown",
      "source": [
        "**Testing the model**"
      ],
      "metadata": {
        "id": "QbgE7oHAUGCZ"
      }
    },
    {
      "cell_type": "code",
      "source": [
        "with torch.no_grad():\n",
        "    correct = 0\n",
        "    total = 0\n",
        "    for images, labels in train_loader:\n",
        "        images = images.to(device)\n",
        "        labels = labels.to(device)\n",
        "        outputs = model(images)\n",
        "        _, predicted = torch.max(outputs.data, 1)\n",
        "        total += labels.size(0)\n",
        "        correct += (predicted == labels).sum().item()\n",
        "    \n",
        "    print('Accuracy of the network on the {} train images: {} %'.format(50000, 100 * correct / total))"
      ],
      "metadata": {
        "colab": {
          "base_uri": "https://localhost:8080/"
        },
        "id": "GjezNRNsLGwU",
        "outputId": "10a583b4-e688-4cb7-f514-f9ee27d7d0ca"
      },
      "execution_count": 22,
      "outputs": [
        {
          "output_type": "stream",
          "name": "stdout",
          "text": [
            "Accuracy of the network on the 50000 train images: 82.794 %\n"
          ]
        }
      ]
    }
  ]
}